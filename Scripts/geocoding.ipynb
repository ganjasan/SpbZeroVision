{
 "cells": [
  {
   "cell_type": "code",
   "execution_count": 33,
   "metadata": {},
   "outputs": [],
   "source": [
    "import pandas as pd\n",
    "import geocoder\n",
    "import json"
   ]
  },
  {
   "cell_type": "code",
   "execution_count": 31,
   "metadata": {},
   "outputs": [],
   "source": [
    "spb_clear_data_path = \"C:/Users/user/Documents/GitHub/SpbZeroVision/Data/SpbData/ClearData/\"\n",
    "spb_processing_data_path = \"C:/Users/user/Documents/GitHub/SpbZeroVision/Data/SpbData/ProcessingData/\""
   ]
  },
  {
   "cell_type": "code",
   "execution_count": 6,
   "metadata": {},
   "outputs": [],
   "source": [
    "dtp_info_df = pd.read_csv(spb_clear_data_path + \"spb_main_info.csv\")"
   ]
  },
  {
   "cell_type": "code",
   "execution_count": 14,
   "metadata": {},
   "outputs": [],
   "source": [
    "def log_progress(sequence, every=None, size=None):\n",
    "    from ipywidgets import IntProgress, HTML, VBox\n",
    "    from IPython.display import display\n",
    "    \n",
    "    is_iterator = False\n",
    "    if size is None:\n",
    "        try:\n",
    "            size = len(sequence)\n",
    "        except TypeError:\n",
    "            is_iterator = True\n",
    "    if size is not None:\n",
    "        if every is None:\n",
    "            if size <= 200:\n",
    "                every = 1\n",
    "            else:\n",
    "                every = size / 200     # every 0.5%\n",
    "    else:\n",
    "        assert every is not None, 'sequence is iterator, set every'\n",
    "\n",
    "    if is_iterator:\n",
    "        progress = IntProgress(min=0, max=1, value=1)\n",
    "        progress.bar_style = 'info'\n",
    "    else:\n",
    "        progress = IntProgress(min=0, max=size, value=0)\n",
    "    label = HTML()\n",
    "    box = VBox(children=[label, progress])\n",
    "    display(box)\n",
    "    \n",
    "    index = 0\n",
    "    try:\n",
    "        for index, record in enumerate(sequence, 1):\n",
    "            \n",
    "            if index == 1 or index % every == 0:\n",
    "                if is_iterator:\n",
    "                    label.value = '{index} / ?'.format(index=index)\n",
    "                else:\n",
    "                    progress.value = index\n",
    "                    label.value = u'{index} / {size}'.format(\n",
    "                        index=index,\n",
    "                        size=size\n",
    "                    )\n",
    "            yield record\n",
    "    except:\n",
    "        progress.bar_style = 'danger'\n",
    "        raise\n",
    "    else:\n",
    "        progress.bar_style = 'success'\n",
    "        progress.value = index\n",
    "        label.value = str(index or '?')"
   ]
  },
  {
   "cell_type": "code",
   "execution_count": 30,
   "metadata": {},
   "outputs": [
    {
     "data": {
      "application/vnd.jupyter.widget-view+json": {
       "model_id": "5c64c46354364c09bb09c673d5c1e818",
       "version_major": 2,
       "version_minor": 0
      },
      "text/plain": [
       "VBox(children=(HTML(value=''), IntProgress(value=1, bar_style='info', max=1)))"
      ]
     },
     "metadata": {},
     "output_type": "display_data"
    },
    {
     "name": "stderr",
     "output_type": "stream",
     "text": [
      "Status code Unknown from https://geocode-maps.yandex.ru/1.x/: ERROR - HTTPSConnectionPool(host='geocode-maps.yandex.ru', port=443): Max retries exceeded with url: /1.x/?geocode=%D0%B3+%D0%A1%D0%B0%D0%BD%D0%BA%D1%82-%D0%9F%D0%B5%D1%82%D0%B5%D1%80%D0%B1%D1%83%D1%80%D0%B3+%D1%83%D0%BB+%D0%A1%D0%B5%D0%B4%D0%BE%D0%B2%D0%B0+28&lang=en-US&kind=&format=json&results=1 (Caused by ConnectTimeoutError(<urllib3.connection.VerifiedHTTPSConnection object at 0x000001A2D2237E80>, 'Connection to geocode-maps.yandex.ru timed out. (connect timeout=5.0)'))\n",
      "Status code Unknown from https://geocode-maps.yandex.ru/1.x/: ERROR - HTTPSConnectionPool(host='geocode-maps.yandex.ru', port=443): Read timed out. (read timeout=5.0)\n",
      "Status code Unknown from https://geocode-maps.yandex.ru/1.x/: ERROR - HTTPSConnectionPool(host='geocode-maps.yandex.ru', port=443): Read timed out. (read timeout=5.0)\n",
      "Status code Unknown from https://geocode-maps.yandex.ru/1.x/: ERROR - HTTPSConnectionPool(host='geocode-maps.yandex.ru', port=443): Read timed out. (read timeout=5.0)\n",
      "Status code Unknown from https://geocode-maps.yandex.ru/1.x/: ERROR - HTTPSConnectionPool(host='geocode-maps.yandex.ru', port=443): Max retries exceeded with url: /1.x/?geocode=%D0%B3+%D0%9A%D1%80%D0%B0%D1%81%D0%BD%D0%BE%D0%B5+%D0%A1%D0%B5%D0%BB%D0%BE+%D1%83%D0%BB+%D0%9D%D0%B0%D1%80%D0%B2%D1%81%D0%BA%D0%B0%D1%8F+2&lang=en-US&kind=&format=json&results=1 (Caused by ConnectTimeoutError(<urllib3.connection.VerifiedHTTPSConnection object at 0x000001A2D3110908>, 'Connection to geocode-maps.yandex.ru timed out. (connect timeout=5.0)'))\n",
      "Status code Unknown from https://geocode-maps.yandex.ru/1.x/: ERROR - HTTPSConnectionPool(host='geocode-maps.yandex.ru', port=443): Read timed out. (read timeout=5.0)\n",
      "Status code Unknown from https://geocode-maps.yandex.ru/1.x/: ERROR - HTTPSConnectionPool(host='geocode-maps.yandex.ru', port=443): Max retries exceeded with url: /1.x/?geocode=%D0%B3+%D0%A1%D0%B0%D0%BD%D0%BA%D1%82-%D0%9F%D0%B5%D1%82%D0%B5%D1%80%D0%B1%D1%83%D1%80%D0%B3+%D0%BF%D1%80-%D0%BA%D1%82+%D0%90%D0%BD%D0%B3%D0%BB%D0%B8%D0%B9%D1%81%D0%BA%D0%B8%D0%B9+30&lang=en-US&kind=&format=json&results=1 (Caused by ConnectTimeoutError(<urllib3.connection.VerifiedHTTPSConnection object at 0x000001A2DCFF24A8>, 'Connection to geocode-maps.yandex.ru timed out. (connect timeout=5.0)'))\n"
     ]
    }
   ],
   "source": [
    "geocoded_cards = []\n",
    "for card in log_progress(dtp_info_df.iterrows(),10):\n",
    "    row = card[1]\n",
    "    r = geocoder.yandex(str(row.n_p) + \" \" + str(row.street) + \" \" + str(row.house))\n",
    "    \n",
    "    geocoded_card = r.json\n",
    "    \n",
    "    if(geocoded_card):\n",
    "        geocoded_card['KartId'] = row['KartId']\n",
    "    else:\n",
    "        geocoded_card = {}\n",
    "    \n",
    "    geocoded_cards.append(geocoded_card)"
   ]
  },
  {
   "cell_type": "code",
   "execution_count": 34,
   "metadata": {},
   "outputs": [],
   "source": [
    "with open(spb_processing_data_path + \"geocod_dtp_cards.json\", 'w', encoding='utf-8') as out_file:\n",
    "    json.dump(geocoded_cards, out_file)"
   ]
  },
  {
   "cell_type": "code",
   "execution_count": 41,
   "metadata": {},
   "outputs": [
    {
     "ename": "KeyError",
     "evalue": "'accuracy'",
     "output_type": "error",
     "traceback": [
      "\u001b[1;31m---------------------------------------------------------------------------\u001b[0m",
      "\u001b[1;31mKeyError\u001b[0m                                  Traceback (most recent call last)",
      "\u001b[1;32m<ipython-input-41-599c85d07746>\u001b[0m in \u001b[0;36m<module>\u001b[1;34m()\u001b[0m\n\u001b[0;32m      7\u001b[0m         \u001b[1;34m\"lng\"\u001b[0m\u001b[1;33m:\u001b[0m \u001b[0mg\u001b[0m\u001b[1;33m[\u001b[0m\u001b[1;34m'lng'\u001b[0m\u001b[1;33m]\u001b[0m\u001b[1;33m,\u001b[0m\u001b[1;33m\u001b[0m\u001b[0m\n\u001b[0;32m      8\u001b[0m     }\n\u001b[1;32m----> 9\u001b[1;33m for g in geocoded_cards]\n\u001b[0m\u001b[0;32m     10\u001b[0m \u001b[1;33m\u001b[0m\u001b[0m\n\u001b[0;32m     11\u001b[0m \u001b[0mgeocoded_coords_df\u001b[0m \u001b[1;33m=\u001b[0m \u001b[0mpd\u001b[0m\u001b[1;33m.\u001b[0m\u001b[0mDataFrame\u001b[0m\u001b[1;33m(\u001b[0m\u001b[0mgeocoded_cards\u001b[0m\u001b[1;33m)\u001b[0m\u001b[1;33m\u001b[0m\u001b[0m\n",
      "\u001b[1;32m<ipython-input-41-599c85d07746>\u001b[0m in \u001b[0;36m<listcomp>\u001b[1;34m(.0)\u001b[0m\n\u001b[0;32m      7\u001b[0m         \u001b[1;34m\"lng\"\u001b[0m\u001b[1;33m:\u001b[0m \u001b[0mg\u001b[0m\u001b[1;33m[\u001b[0m\u001b[1;34m'lng'\u001b[0m\u001b[1;33m]\u001b[0m\u001b[1;33m,\u001b[0m\u001b[1;33m\u001b[0m\u001b[0m\n\u001b[0;32m      8\u001b[0m     }\n\u001b[1;32m----> 9\u001b[1;33m for g in geocoded_cards]\n\u001b[0m\u001b[0;32m     10\u001b[0m \u001b[1;33m\u001b[0m\u001b[0m\n\u001b[0;32m     11\u001b[0m \u001b[0mgeocoded_coords_df\u001b[0m \u001b[1;33m=\u001b[0m \u001b[0mpd\u001b[0m\u001b[1;33m.\u001b[0m\u001b[0mDataFrame\u001b[0m\u001b[1;33m(\u001b[0m\u001b[0mgeocoded_cards\u001b[0m\u001b[1;33m)\u001b[0m\u001b[1;33m\u001b[0m\u001b[0m\n",
      "\u001b[1;31mKeyError\u001b[0m: 'accuracy'"
     ]
    }
   ],
   "source": [
    "#check original coords and geocoded coogez\n",
    "geocoded_cards_simple = [\n",
    "    {\n",
    "        \"KartId\": g['KartId'] if 'KartId' in g else 0,\n",
    "        \"accuracy\": g['accuracy'],\n",
    "        \"lat\": g['lat'],\n",
    "        \"lng\": g['lng'],\n",
    "    }\n",
    "for g in geocoded_cards]\n",
    "\n",
    "geocoded_coords_df = pd.DataFrame(geocoded_cards)\n",
    "geocoded_coords_df.to_csv(spb_processing_data_path + \"geocoeded_dtp_coords.csv\", encoding='utf-8')"
   ]
  },
  {
   "cell_type": "code",
   "execution_count": 39,
   "metadata": {},
   "outputs": [
    {
     "data": {
      "text/plain": [
       "{'accuracy': 'exact',\n",
       " 'address': 'Russia, Saint Petersburg, Liteyny prospekt, 51',\n",
       " 'country': 'Russia',\n",
       " 'country_code': 'RU',\n",
       " 'description': 'Saint Petersburg, Russia',\n",
       " 'lat': '59.937197',\n",
       " 'lng': '30.347776',\n",
       " 'ok': True,\n",
       " 'quality': 'house',\n",
       " 'raw': {'metaDataProperty': {'GeocoderMetaData': {'kind': 'house',\n",
       "    'text': 'Russia, Saint Petersburg, Liteyny prospekt, 51',\n",
       "    'precision': 'exact',\n",
       "    'Address': {'country_code': 'RU',\n",
       "     'postal_code': '191014',\n",
       "     'formatted': 'Saint Petersburg, Liteyny prospekt, 51',\n",
       "     'Components': [{'kind': 'country', 'name': 'Russia'},\n",
       "      {'kind': 'province', 'name': 'Severo-Zapadny federalny okrug'},\n",
       "      {'kind': 'province', 'name': 'Saint Petersburg'},\n",
       "      {'kind': 'locality', 'name': 'Saint Petersburg'},\n",
       "      {'kind': 'street', 'name': 'Liteyny prospekt'},\n",
       "      {'kind': 'house', 'name': '51'}]},\n",
       "    'AddressDetails': {'Country': {'AddressLine': 'Saint Petersburg, Liteyny prospekt, 51',\n",
       "      'CountryNameCode': 'RU',\n",
       "      'CountryName': 'Russia',\n",
       "      'AdministrativeArea': {'AdministrativeAreaName': 'Saint Petersburg',\n",
       "       'Locality': {'LocalityName': 'Saint Petersburg',\n",
       "        'Thoroughfare': {'ThoroughfareName': 'Liteyny prospekt',\n",
       "         'Premise': {'PremiseNumber': '51',\n",
       "          'PostalCode': {'PostalCodeNumber': '191014'}}}}}}}}},\n",
       "  'description': 'Saint Petersburg, Russia',\n",
       "  'name': 'Liteyny prospekt, 51',\n",
       "  'boundedBy': {'Envelope': {'lowerCorner': '30.343671 59.935137',\n",
       "    'upperCorner': '30.351882 59.939257'}},\n",
       "  'Point': {'pos': '30.347776 59.937197'}},\n",
       " 'state': 'Saint Petersburg',\n",
       " 'status': 'OK',\n",
       " 'KartId': 188969603}"
      ]
     },
     "execution_count": 39,
     "metadata": {},
     "output_type": "execute_result"
    }
   ],
   "source": [
    "geocoded_cards[0]"
   ]
  },
  {
   "cell_type": "code",
   "execution_count": null,
   "metadata": {},
   "outputs": [],
   "source": []
  }
 ],
 "metadata": {
  "kernelspec": {
   "display_name": "Python 3",
   "language": "python",
   "name": "python3"
  },
  "language_info": {
   "codemirror_mode": {
    "name": "ipython",
    "version": 3
   },
   "file_extension": ".py",
   "mimetype": "text/x-python",
   "name": "python",
   "nbconvert_exporter": "python",
   "pygments_lexer": "ipython3",
   "version": "3.6.5"
  }
 },
 "nbformat": 4,
 "nbformat_minor": 2
}
