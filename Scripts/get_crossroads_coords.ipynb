{
 "cells": [
  {
   "cell_type": "code",
   "execution_count": 1,
   "metadata": {},
   "outputs": [],
   "source": [
    "import pandas as pd\n",
    "import geopandas as gpd\n",
    "import matplotlib.pyplot as plt\n",
    "from shapely.geometry import Point\n",
    "\n",
    "%matplotlib inline"
   ]
  },
  {
   "cell_type": "code",
   "execution_count": 2,
   "metadata": {},
   "outputs": [],
   "source": [
    "dtp_df = pd.read_csv(\"../Data/SpbData/ProcessingData/dtp_with_boundaries_check.csv\")"
   ]
  },
  {
   "cell_type": "code",
   "execution_count": 3,
   "metadata": {},
   "outputs": [],
   "source": [
    "dtp_df.loc[~dtp_df.in_city_boundaries, 'COORD_L'] = dtp_df[~dtp_df.in_city_boundaries].lng.tolist()\n",
    "dtp_df.loc[~dtp_df.in_city_boundaries, 'COORD_W'] = dtp_df[~dtp_df.in_city_boundaries].lat.tolist()"
   ]
  },
  {
   "cell_type": "code",
   "execution_count": 4,
   "metadata": {},
   "outputs": [],
   "source": [
    "geometry = [Point(xy) for xy in zip(dtp_df.COORD_L, dtp_df.COORD_W)]\n",
    "df = dtp_df.drop(['lat', 'lng'], axis=1)\n",
    "crs = {'init': 'epsg:4326'}\n",
    "dtp_gdf = gpd.GeoDataFrame(df, crs=crs, geometry=geometry)"
   ]
  },
  {
   "cell_type": "code",
   "execution_count": 5,
   "metadata": {},
   "outputs": [],
   "source": [
    "dtp_gdf = dtp_gdf.dropna(subset=['COORD_L', 'COORD_W'])"
   ]
  },
  {
   "cell_type": "code",
   "execution_count": 6,
   "metadata": {},
   "outputs": [],
   "source": [
    "spb_boundaries_gdf = gpd.read_file('../Gis/layers/spb_city_boundary.geojson')\n",
    "spb_boundaries_gdf = spb_boundaries_gdf.drop([1,2])"
   ]
  },
  {
   "cell_type": "code",
   "execution_count": 7,
   "metadata": {},
   "outputs": [],
   "source": [
    "is_dtp_in_boundaries = dtp_gdf.intersects(spb_boundaries_gdf.unary_union)"
   ]
  },
  {
   "cell_type": "code",
   "execution_count": 8,
   "metadata": {},
   "outputs": [],
   "source": [
    "dtp_in_city_bound_gdf = dtp_gdf[is_dtp_in_boundaries]"
   ]
  },
  {
   "cell_type": "code",
   "execution_count": 14,
   "metadata": {},
   "outputs": [],
   "source": [
    "dtp_in_city_bound_gdf = dtp_in_city_bound_gdf.drop('in_city_boundaries',axis=1)"
   ]
  },
  {
   "cell_type": "code",
   "execution_count": 15,
   "metadata": {},
   "outputs": [],
   "source": [
    "dtp_in_city_bound_gdf.to_file(\"../Gis/layers/dtp_in_city_bound.geojson\", driver='GeoJSON')"
   ]
  },
  {
   "cell_type": "code",
   "execution_count": 78,
   "metadata": {},
   "outputs": [],
   "source": [
    "#Получим координаты перекрестков\n",
    "crossroads_gdf = gpd.read_file(\"../Gis/layers/spb_crossing.geojson\")"
   ]
  },
  {
   "cell_type": "code",
   "execution_count": 93,
   "metadata": {},
   "outputs": [],
   "source": [
    "crossroads_buffer_gdf = gpd.GeoDataFrame(gpd.GeoSeries(crossroads_gdf.buffer(50).envelope))\n",
    "crossroads_buffer_gdf = crossroads_buffer_gdf.rename(columns={0:'geometry'}).set_geometry('geometry')"
   ]
  },
  {
   "cell_type": "code",
   "execution_count": null,
   "metadata": {},
   "outputs": [],
   "source": [
    "crossroad_union_gdf = gpd.overlay(crossroads_buffer_gdf, crossroads_buffer_gdf, how='union')"
   ]
  },
  {
   "cell_type": "code",
   "execution_count": null,
   "metadata": {},
   "outputs": [],
   "source": [
    "2+2"
   ]
  },
  {
   "cell_type": "code",
   "execution_count": null,
   "metadata": {},
   "outputs": [],
   "source": []
  }
 ],
 "metadata": {
  "kernelspec": {
   "display_name": "Python 3",
   "language": "python",
   "name": "python3"
  },
  "language_info": {
   "codemirror_mode": {
    "name": "ipython",
    "version": 3
   },
   "file_extension": ".py",
   "mimetype": "text/x-python",
   "name": "python",
   "nbconvert_exporter": "python",
   "pygments_lexer": "ipython3",
   "version": "3.6.5"
  }
 },
 "nbformat": 4,
 "nbformat_minor": 2
}
