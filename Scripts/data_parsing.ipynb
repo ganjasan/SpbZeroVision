{
 "cells": [
  {
   "cell_type": "code",
   "execution_count": 1,
   "metadata": {},
   "outputs": [],
   "source": [
    "import pandas as pd\n",
    "import json\n",
    "import os"
   ]
  },
  {
   "cell_type": "code",
   "execution_count": 10,
   "metadata": {},
   "outputs": [],
   "source": [
    "spb_raw_data_path = \"C:/Users/user/Documents/GitHub/SpbZeroVision/Data/SpbData/RawData/\"\n",
    "full_raw_data_path = \"C:/Users/user/Documents/GitHub/SpbZeroVision/Data/FullData/RawData/\""
   ]
  },
  {
   "cell_type": "code",
   "execution_count": 11,
   "metadata": {},
   "outputs": [],
   "source": [
    "spb_clear_data_path = \"C:/Users/user/Documents/GitHub/SpbZeroVision/Data/SpbData/ClearData/\"\n",
    "full_clear_data_path = \"C:/Users/user/Documents/GitHub/SpbZeroVision/Data/FullData/ClearData/\""
   ]
  },
  {
   "cell_type": "code",
   "execution_count": 12,
   "metadata": {},
   "outputs": [],
   "source": [
    "#get cards\n",
    "def get_cards(path):\n",
    "    cards = []\n",
    "    \n",
    "    file_list = os.listdir(path)\n",
    "    for f in file_list:\n",
    "        with open(path + f, encoding='utf-8') as in_file:\n",
    "            j = json.load(in_file)\n",
    "            data = json.loads(j['data'])\n",
    "            \n",
    "            cards.extend(data['cards'])\n",
    "            \n",
    "    return cards"
   ]
  },
  {
   "cell_type": "code",
   "execution_count": 13,
   "metadata": {},
   "outputs": [],
   "source": [
    "cards = get_cards(spb_raw_data_path)"
   ]
  },
  {
   "cell_type": "code",
   "execution_count": 17,
   "metadata": {},
   "outputs": [],
   "source": [
    "#save cards\n",
    "with open(spb_clear_data_path + \"spb_dtp_cards.json\", 'w',encoding='utf-8') as out_file:\n",
    "    json.dump(cards, out_file)"
   ]
  },
  {
   "cell_type": "code",
   "execution_count": 32,
   "metadata": {},
   "outputs": [],
   "source": [
    "#get main dtp info\n",
    "main_card_info_list = [\n",
    "    {\n",
    "        'KartId': c['KartId'],\n",
    "        'rowNum': c['rowNum'],\n",
    "        'date': c['date'],\n",
    "        'Time': c['Time'],\n",
    "        'District': c['District'],\n",
    "        'DTP_V': c['DTP_V'],\n",
    "        'POG': c['POG'],\n",
    "        'RAN': c['RAN'],\n",
    "        'K_TS': c['K_TS'],\n",
    "        'K_UCH': c['K_UCH'],\n",
    "        'n_p': c['infoDtp']['n_p'],\n",
    "        'street': c['infoDtp']['street'],\n",
    "        'n_p': c['infoDtp']['n_p'],\n",
    "        'street': c['infoDtp']['street'],\n",
    "        'house': c['infoDtp']['house'],\n",
    "        'dor': c['infoDtp']['dor'],\n",
    "        'km': c['infoDtp']['km'],\n",
    "        'm': c['infoDtp']['m'],\n",
    "        'k_ul': c['infoDtp']['k_ul'],\n",
    "        'dor_k': c['infoDtp']['dor_k'],\n",
    "        'dor_z': c['infoDtp']['dor_z'],\n",
    "        's_pch': c['infoDtp']['s_pch'],\n",
    "        'osv': c['infoDtp']['osv'],\n",
    "        'change_org_motion': c['infoDtp']['change_org_motion'],\n",
    "        's_dtp': c['infoDtp']['s_dtp'],\n",
    "        'COORD_W': c['infoDtp']['COORD_W'],\n",
    "        'COORD_L': c['infoDtp']['COORD_L'],\n",
    "    } for c in cards] "
   ]
  },
  {
   "cell_type": "code",
   "execution_count": 34,
   "metadata": {},
   "outputs": [],
   "source": [
    "#save main card info\n",
    "df = pd.DataFrame(main_card_info_list)\n",
    "df.to_csv(spb_clear_data_path + 'spb_main_info.csv')"
   ]
  },
  {
   "cell_type": "code",
   "execution_count": 39,
   "metadata": {},
   "outputs": [],
   "source": [
    "#get ts info\n",
    "ts_info_list = []\n",
    "\n",
    "for card in cards:\n",
    "    dtp_info = card['infoDtp']\n",
    "    ts_list = dtp_info['ts_info']\n",
    "    \n",
    "    for ts in ts_list:\n",
    "        ts_info = {\n",
    "            'KartId': card['KartId'],\n",
    "            'n_ts': ts['n_ts'],\n",
    "            'ts_s': ts['ts_s'],\n",
    "            't_ts': ts['t_ts'],\n",
    "            'marka_ts': ts['marka_ts'],\n",
    "            'm_ts': ts['m_ts'],\n",
    "            'color': ts['color'],\n",
    "            'r_rul': ts['r_rul'],\n",
    "            'g_v': ts['g_v'],\n",
    "            'm_pov': ts['m_pov'],\n",
    "            't_n': ts['t_n'],\n",
    "            'f_sob': ts['f_sob'],\n",
    "            'o_pf': ts['o_pf'],\n",
    "        }\n",
    "        \n",
    "        ts_info_list.append(ts_info)"
   ]
  },
  {
   "cell_type": "code",
   "execution_count": 41,
   "metadata": {},
   "outputs": [
    {
     "data": {
      "text/plain": [
       "34479"
      ]
     },
     "execution_count": 41,
     "metadata": {},
     "output_type": "execute_result"
    }
   ],
   "source": [
    "#save ts info \n",
    "df = pd.DataFrame(ts_info_list)\n",
    "df.to_csv(spb_clear_data_path + 'spb_ts_info.csv', encoding='')"
   ]
  },
  {
   "cell_type": "code",
   "execution_count": null,
   "metadata": {},
   "outputs": [],
   "source": []
  }
 ],
 "metadata": {
  "kernelspec": {
   "display_name": "Python 3",
   "language": "python",
   "name": "python3"
  },
  "language_info": {
   "codemirror_mode": {
    "name": "ipython",
    "version": 3
   },
   "file_extension": ".py",
   "mimetype": "text/x-python",
   "name": "python",
   "nbconvert_exporter": "python",
   "pygments_lexer": "ipython3",
   "version": "3.6.5"
  }
 },
 "nbformat": 4,
 "nbformat_minor": 2
}
