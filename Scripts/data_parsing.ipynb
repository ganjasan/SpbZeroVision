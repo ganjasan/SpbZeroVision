{
 "cells": [
  {
   "cell_type": "code",
   "execution_count": 1,
   "metadata": {},
   "outputs": [],
   "source": [
    "import pandas as pd\n",
    "import json\n",
    "import os"
   ]
  },
  {
   "cell_type": "code",
   "execution_count": 10,
   "metadata": {},
   "outputs": [],
   "source": [
    "spb_raw_data_path = \"C:/Users/user/Documents/GitHub/SpbZeroVision/Data/SpbData/RawData/\"\n",
    "full_raw_data_path = \"C:/Users/user/Documents/GitHub/SpbZeroVision/Data/FullData/RawData/\""
   ]
  },
  {
   "cell_type": "code",
   "execution_count": 11,
   "metadata": {},
   "outputs": [],
   "source": [
    "spb_clear_data_path = \"C:/Users/user/Documents/GitHub/SpbZeroVision/Data/SpbData/ClearData/\"\n",
    "full_clear_data_path = \"C:/Users/user/Documents/GitHub/SpbZeroVision/Data/FullData/ClearData/\""
   ]
  },
  {
   "cell_type": "code",
   "execution_count": 12,
   "metadata": {},
   "outputs": [],
   "source": [
    "#get cards\n",
    "def get_cards(path):\n",
    "    cards = []\n",
    "    \n",
    "    file_list = os.listdir(path)\n",
    "    for f in file_list:\n",
    "        with open(path + f, encoding='utf-8') as in_file:\n",
    "            j = json.load(in_file)\n",
    "            data = json.loads(j['data'])\n",
    "            \n",
    "            cards.extend(data['cards'])\n",
    "            \n",
    "    return cards"
   ]
  },
  {
   "cell_type": "code",
   "execution_count": 13,
   "metadata": {},
   "outputs": [],
   "source": [
    "cards = get_cards(spb_raw_data_path)"
   ]
  },
  {
   "cell_type": "code",
   "execution_count": 17,
   "metadata": {},
   "outputs": [],
   "source": [
    "#save cards\n",
    "with open(spb_clear_data_path + \"spb_dtp_cards.json\", 'w',encoding='utf-8') as out_file:\n",
    "    json.dump(cards, out_file)"
   ]
  },
  {
   "cell_type": "code",
   "execution_count": 32,
   "metadata": {},
   "outputs": [],
   "source": [
    "#get main dtp info\n",
    "main_card_info_list = [\n",
    "    {\n",
    "        'KartId': c['KartId'],\n",
    "        'rowNum': c['rowNum'],\n",
    "        'date': c['date'],\n",
    "        'Time': c['Time'],\n",
    "        'District': c['District'],\n",
    "        'DTP_V': c['DTP_V'],\n",
    "        'POG': c['POG'],\n",
    "        'RAN': c['RAN'],\n",
    "        'K_TS': c['K_TS'],\n",
    "        'K_UCH': c['K_UCH'],\n",
    "        'n_p': c['infoDtp']['n_p'],\n",
    "        'street': c['infoDtp']['street'],\n",
    "        'n_p': c['infoDtp']['n_p'],\n",
    "        'street': c['infoDtp']['street'],\n",
    "        'house': c['infoDtp']['house'],\n",
    "        'dor': c['infoDtp']['dor'],\n",
    "        'km': c['infoDtp']['km'],\n",
    "        'm': c['infoDtp']['m'],\n",
    "        'k_ul': c['infoDtp']['k_ul'],\n",
    "        'dor_k': c['infoDtp']['dor_k'],\n",
    "        'dor_z': c['infoDtp']['dor_z'],\n",
    "        's_pch': c['infoDtp']['s_pch'],\n",
    "        'osv': c['infoDtp']['osv'],\n",
    "        'change_org_motion': c['infoDtp']['change_org_motion'],\n",
    "        's_dtp': c['infoDtp']['s_dtp'],\n",
    "        'COORD_W': c['infoDtp']['COORD_W'],\n",
    "        'COORD_L': c['infoDtp']['COORD_L'],\n",
    "    } for c in cards] "
   ]
  },
  {
   "cell_type": "code",
   "execution_count": 34,
   "metadata": {},
   "outputs": [],
   "source": [
    "#save main card info\n",
    "df = pd.DataFrame(main_card_info_list)\n",
    "df.to_csv(spb_clear_data_path + 'spb_main_info.csv')"
   ]
  },
  {
   "cell_type": "code",
   "execution_count": 39,
   "metadata": {},
   "outputs": [],
   "source": [
    "#get ts info\n",
    "ts_info_list = []\n",
    "\n",
    "for card in cards:\n",
    "    dtp_info = card['infoDtp']\n",
    "    ts_list = dtp_info['ts_info']\n",
    "    \n",
    "    for ts in ts_list:\n",
    "        ts_info = {\n",
    "            'KartId': card['KartId'],\n",
    "            'n_ts': ts['n_ts'],\n",
    "            'ts_s': ts['ts_s'],\n",
    "            't_ts': ts['t_ts'],\n",
    "            'marka_ts': ts['marka_ts'],\n",
    "            'm_ts': ts['m_ts'],\n",
    "            'color': ts['color'],\n",
    "            'r_rul': ts['r_rul'],\n",
    "            'g_v': ts['g_v'],\n",
    "            'm_pov': ts['m_pov'],\n",
    "            't_n': ts['t_n'],\n",
    "            'f_sob': ts['f_sob'],\n",
    "            'o_pf': ts['o_pf'],\n",
    "        }\n",
    "        \n",
    "        ts_info_list.append(ts_info)"
   ]
  },
  {
   "cell_type": "code",
   "execution_count": 42,
   "metadata": {},
   "outputs": [],
   "source": [
    "#save ts info \n",
    "df = pd.DataFrame(ts_info_list)\n",
    "df.to_csv(spb_clear_data_path + 'spb_ts_info.csv', encoding='utf-8')"
   ]
  },
  {
   "cell_type": "code",
   "execution_count": 49,
   "metadata": {},
   "outputs": [],
   "source": [
    "#get uch info\n",
    "uch_info_list = []\n",
    "for card in cards:\n",
    "    dtp_info = card['infoDtp']\n",
    "    ts_list = dtp_info['ts_info']\n",
    "    for ts in ts_list:\n",
    "        uch_list = ts['ts_uch']\n",
    "        for uch in uch_list:\n",
    "            uch_info = {\n",
    "                'KartId': card['KartId'],\n",
    "                'n_ts': ts['n_ts'],\n",
    "                'K_UCH': uch['K_UCH'],\n",
    "                'NPDD': uch['NPDD'],\n",
    "                'S_T': uch['S_T'],\n",
    "                'POL': uch['POL'],\n",
    "                'V_ST': uch['V_ST'],\n",
    "                'ALCO': uch['ALCO'],\n",
    "                'SOP_NPDD': uch['SOP_NPDD'],\n",
    "                'SAFETY_BELT': uch['SAFETY_BELT'],\n",
    "                'S_SM': uch['S_SM'],\n",
    "                'N_UCH': uch['N_UCH'],\n",
    "                'S_SEAT_GROUP': uch['S_SEAT_GROUP'],\n",
    "                'INJURED_CARD_ID': uch['INJURED_CARD_ID'], \n",
    "            }\n",
    "            uch_info_list.append(uch_info)\n",
    "    \n",
    "    uch_list = dtp_info['uchInfo']\n",
    "    for uch in uch_list:\n",
    "        uch_info = {\n",
    "                'KartId': card['KartId'],\n",
    "                'n_ts': '',\n",
    "                'K_UCH': uch['K_UCH'],\n",
    "                'NPDD': uch['NPDD'],\n",
    "                'S_T': uch['S_T'],\n",
    "                'POL': uch['POL'],\n",
    "                'V_ST': uch['V_ST'],\n",
    "                'ALCO': uch['ALCO'],\n",
    "                'SOP_NPDD': uch['SOP_NPDD'],\n",
    "                'SAFETY_BELT': '',\n",
    "                'S_SM': uch['S_SM'],\n",
    "                'N_UCH': uch['N_UCH'],\n",
    "                'S_SEAT_GROUP': '',\n",
    "                'INJURED_CARD_ID': '', \n",
    "            }\n",
    "        uch_info_list.append(uch_info)"
   ]
  },
  {
   "cell_type": "code",
   "execution_count": 47,
   "metadata": {},
   "outputs": [
    {
     "data": {
      "text/plain": [
       "{'ndu': ['Не установлены'],\n",
       " 'sdor': ['Перегон (нет объектов на месте ДТП)'],\n",
       " 'ts_info': [{'n_ts': '1',\n",
       "   'ts_s': 'Нет',\n",
       "   't_ts': 'А-класс (особо малый) до 3,5 м',\n",
       "   'marka_ts': 'VOLVO',\n",
       "   'm_ts': 'XC70',\n",
       "   'color': 'Черный',\n",
       "   'r_rul': 'Передний',\n",
       "   'g_v': '2008',\n",
       "   'm_pov': 'Передний левый бок (передняя дверь водителя, в случае ТС с правым расположением руля передняя дверь пассажира) | Передний левый угол',\n",
       "   't_n': 'Технические неисправности отсутствуют',\n",
       "   'f_sob': 'Частная собственность',\n",
       "   'o_pf': '',\n",
       "   'ts_uch': [{'K_UCH': 'Водитель',\n",
       "     'NPDD': ['Нет нарушений'],\n",
       "     'S_T': 'Не пострадал',\n",
       "     'POL': 'Мужской',\n",
       "     'V_ST': '30',\n",
       "     'ALCO': '',\n",
       "     'SOP_NPDD': ['Нет нарушений'],\n",
       "     'SAFETY_BELT': 'Да',\n",
       "     'S_SM': 'Нет (не скрывался)',\n",
       "     'N_UCH': '2',\n",
       "     'S_SEAT_GROUP': '',\n",
       "     'INJURED_CARD_ID': ''}]},\n",
       "  {'n_ts': '2',\n",
       "   'ts_s': 'Нет',\n",
       "   't_ts': 'А-класс (особо малый) до 3,5 м',\n",
       "   'marka_ts': 'MAZDA',\n",
       "   'm_ts': 'Mazda 6',\n",
       "   'color': 'Синий',\n",
       "   'r_rul': 'Передний',\n",
       "   'g_v': '2006',\n",
       "   'm_pov': 'Полная деформация кузова',\n",
       "   't_n': 'Технические неисправности отсутствуют',\n",
       "   'f_sob': 'Частная собственность',\n",
       "   'o_pf': '',\n",
       "   'ts_uch': [{'K_UCH': 'Водитель',\n",
       "     'NPDD': ['Нарушение правил перестроения'],\n",
       "     'S_T': 'Не пострадал',\n",
       "     'POL': 'Мужской',\n",
       "     'V_ST': '10',\n",
       "     'ALCO': '',\n",
       "     'SOP_NPDD': ['Нет нарушений'],\n",
       "     'SAFETY_BELT': 'Да',\n",
       "     'S_SM': 'Нет (не скрывался)',\n",
       "     'N_UCH': '3',\n",
       "     'S_SEAT_GROUP': '',\n",
       "     'INJURED_CARD_ID': ''}]}],\n",
       " 'n_p': 'г Санкт-Петербург',\n",
       " 'street': 'пр-кт Литейный',\n",
       " 'house': '51',\n",
       " 'dor': '',\n",
       " 'km': '',\n",
       " 'm': '',\n",
       " 'k_ul': 'Магистральные улицы районного значения',\n",
       " 'dor_k': '',\n",
       " 'dor_z': 'Не указано',\n",
       " 'factor': ['Сведения отсутствуют'],\n",
       " 's_pog': ['Пасмурно'],\n",
       " 's_pch': 'Сухое',\n",
       " 'osv': 'Светлое время суток',\n",
       " 'change_org_motion': 'Режим движения не изменялся',\n",
       " 's_dtp': '040',\n",
       " 'COORD_W': '59.9375',\n",
       " 'COORD_L': '30.3483',\n",
       " 'OBJ_DTP': ['Отсутствие в непосредственной близости объектов УДС и объектов притяжения'],\n",
       " 'uchInfo': [{'K_UCH': 'Пешеход',\n",
       "   'NPDD': ['Нет нарушений'],\n",
       "   'S_T': 'Раненый, находящийся (находившийся)  на амбулаторном лечении, либо которому по характеру полученных травм обозначена необходимость амбулаторного лечения (вне зависимости от его фактического прохождения)',\n",
       "   'POL': 'Не определен',\n",
       "   'V_ST': '',\n",
       "   'ALCO': '',\n",
       "   'SOP_NPDD': ['Нет нарушений'],\n",
       "   'S_SM': 'Нет (не скрывался)',\n",
       "   'N_UCH': '1'}]}"
      ]
     },
     "execution_count": 47,
     "metadata": {},
     "output_type": "execute_result"
    }
   ],
   "source": [
    "cards[0]['infoDtp']'uchInfo'"
   ]
  },
  {
   "cell_type": "code",
   "execution_count": null,
   "metadata": {},
   "outputs": [],
   "source": []
  }
 ],
 "metadata": {
  "kernelspec": {
   "display_name": "Python 3",
   "language": "python",
   "name": "python3"
  },
  "language_info": {
   "codemirror_mode": {
    "name": "ipython",
    "version": 3
   },
   "file_extension": ".py",
   "mimetype": "text/x-python",
   "name": "python",
   "nbconvert_exporter": "python",
   "pygments_lexer": "ipython3",
   "version": "3.6.5"
  }
 },
 "nbformat": 4,
 "nbformat_minor": 2
}
